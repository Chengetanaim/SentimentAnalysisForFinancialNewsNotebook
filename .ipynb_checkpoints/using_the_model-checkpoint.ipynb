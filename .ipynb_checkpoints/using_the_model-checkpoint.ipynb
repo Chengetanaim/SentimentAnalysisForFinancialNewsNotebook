{
 "cells": [
  {
   "cell_type": "code",
   "execution_count": 1,
   "id": "ef9e2b5a",
   "metadata": {},
   "outputs": [],
   "source": [
    "import pandas as pd"
   ]
  },
  {
   "cell_type": "code",
   "execution_count": 2,
   "id": "42383f2c",
   "metadata": {},
   "outputs": [],
   "source": [
    "import pickle"
   ]
  },
  {
   "cell_type": "code",
   "execution_count": 3,
   "id": "7d914a5b",
   "metadata": {},
   "outputs": [],
   "source": [
    "with open('financial_model.pkl', 'rb') as f:\n",
    "    model = pickle.load(f)"
   ]
  },
  {
   "cell_type": "code",
   "execution_count": 4,
   "id": "f87a82e6",
   "metadata": {},
   "outputs": [
    {
     "data": {
      "text/plain": [
       "array([1], dtype=int64)"
      ]
     },
     "execution_count": 4,
     "metadata": {},
     "output_type": "execute_result"
    }
   ],
   "source": [
    "model.predict(['Ransomware spoils crypto industry clean up'])"
   ]
  },
  {
   "cell_type": "code",
   "execution_count": 5,
   "id": "e27f42fa",
   "metadata": {},
   "outputs": [
    {
     "data": {
      "text/plain": [
       "array([2], dtype=int64)"
      ]
     },
     "execution_count": 5,
     "metadata": {},
     "output_type": "execute_result"
    }
   ],
   "source": [
    "model.predict(['Europe’s first bitcoin ETF set to launch after 12-month delay'])"
   ]
  },
  {
   "cell_type": "code",
   "execution_count": 6,
   "id": "f5cc04c7",
   "metadata": {},
   "outputs": [
    {
     "data": {
      "text/plain": [
       "array([2], dtype=int64)"
      ]
     },
     "execution_count": 6,
     "metadata": {},
     "output_type": "execute_result"
    }
   ],
   "source": [
    "model.predict(['Securities and Exchange Commission has repeatedly rejected industry efforts for a fund Save '])"
   ]
  },
  {
   "cell_type": "code",
   "execution_count": 7,
   "id": "7a94b104",
   "metadata": {},
   "outputs": [
    {
     "data": {
      "text/plain": [
       "array([2], dtype=int64)"
      ]
     },
     "execution_count": 7,
     "metadata": {},
     "output_type": "execute_result"
    }
   ],
   "source": [
    "model.predict(['FTX bankruptcy ‘on track to be very expensive’ as fees top $200mn'])"
   ]
  },
  {
   "cell_type": "code",
   "execution_count": 8,
   "id": "1e625aae",
   "metadata": {},
   "outputs": [
    {
     "data": {
      "text/plain": [
       "array([2], dtype=int64)"
      ]
     },
     "execution_count": 8,
     "metadata": {},
     "output_type": "execute_result"
    }
   ],
   "source": [
    "model.predict(['Trading teams at Crypto.com exchange raise conflict questions'])"
   ]
  },
  {
   "cell_type": "code",
   "execution_count": 9,
   "id": "969422db",
   "metadata": {},
   "outputs": [
    {
     "data": {
      "text/plain": [
       "array([2], dtype=int64)"
      ]
     },
     "execution_count": 9,
     "metadata": {},
     "output_type": "execute_result"
    }
   ],
   "source": [
    "model.predict(['Neste separated from its parent company , Finnish energy company Fortum , and became listed on the Helsinki Stock Exchange.'])"
   ]
  },
  {
   "cell_type": "code",
   "execution_count": 10,
   "id": "f1498b2a",
   "metadata": {},
   "outputs": [
    {
     "data": {
      "text/plain": [
       "array([2], dtype=int64)"
      ]
     },
     "execution_count": 10,
     "metadata": {},
     "output_type": "execute_result"
    }
   ],
   "source": [
    "model.predict(['Finnish Okmetic that manufactures and processes silicon wafers for the semiconductor and sensor industries and Norwegian solar wafer company NorSun have signed a contract under which Okmetic will supply NorSun mono silicon crystals for use in solar cell manufacturing '])"
   ]
  },
  {
   "cell_type": "code",
   "execution_count": 11,
   "id": "cc1e1dd3",
   "metadata": {},
   "outputs": [
    {
     "data": {
      "text/plain": [
       "array([2], dtype=int64)"
      ]
     },
     "execution_count": 11,
     "metadata": {},
     "output_type": "execute_result"
    }
   ],
   "source": [
    "model.predict(['The Bank is also examining the benefits of transferring the Swedish business to operate as a branch office so that the operations would be governed by Finland'])"
   ]
  },
  {
   "cell_type": "code",
   "execution_count": 12,
   "id": "6359f3db",
   "metadata": {},
   "outputs": [
    {
     "data": {
      "text/plain": [
       "array([2], dtype=int64)"
      ]
     },
     "execution_count": 12,
     "metadata": {},
     "output_type": "execute_result"
    }
   ],
   "source": [
    "model.predict([\n",
    "    'The company is studying the feasibility of focusing most of its processed meat production in the Vantaa facilities and the processing of fresh meat in the Forssa facilities .'\n",
    "])"
   ]
  },
  {
   "cell_type": "code",
   "execution_count": 13,
   "id": "7889f175",
   "metadata": {},
   "outputs": [
    {
     "data": {
      "text/plain": [
       "array([1], dtype=int64)"
      ]
     },
     "execution_count": 13,
     "metadata": {},
     "output_type": "execute_result"
    }
   ],
   "source": [
    "model.predict(['Raute said it has won an order worth around 15 mln eur to supply several plywood production lines to mills operated by Russian wood products company Sveza Group .'])"
   ]
  },
  {
   "cell_type": "code",
   "execution_count": 1,
   "id": "cc9d317a",
   "metadata": {},
   "outputs": [],
   "source": [
    "import spacy"
   ]
  },
  {
   "cell_type": "code",
   "execution_count": null,
   "id": "a00d3227",
   "metadata": {},
   "outputs": [],
   "source": []
  },
  {
   "cell_type": "code",
   "execution_count": 2,
   "id": "41108f4e",
   "metadata": {},
   "outputs": [],
   "source": [
    "nlp = spacy.load(\"en_core_web_sm\")"
   ]
  },
  {
   "cell_type": "code",
   "execution_count": 3,
   "id": "fc646bac",
   "metadata": {},
   "outputs": [],
   "source": [
    "doc = nlp('Raute said it has won an order worth around 15 mln eur to supply several plywood production lines to mills operated by Russian wood products company Sveza Group .')"
   ]
  },
  {
   "cell_type": "code",
   "execution_count": 4,
   "id": "0e71a79a",
   "metadata": {},
   "outputs": [
    {
     "name": "stdout",
     "output_type": "stream",
     "text": [
      "15  |  CARDINAL\n",
      "Russian  |  NORP\n",
      "Sveza Group  |  ORG\n"
     ]
    }
   ],
   "source": [
    "for ent in doc.ents:\n",
    "    print(ent.text, \" | \", ent.label_)"
   ]
  },
  {
   "cell_type": "code",
   "execution_count": null,
   "id": "ba6db96e",
   "metadata": {},
   "outputs": [],
   "source": []
  },
  {
   "cell_type": "code",
   "execution_count": 27,
   "id": "9b98fe30",
   "metadata": {},
   "outputs": [],
   "source": [
    "entities = []\n",
    "entity_labels2 = {}\n",
    "labels = []\n",
    "for ent in doc.ents:\n",
    "    entities.append(ent.text)\n",
    "    labels.append(ent.label_)\n",
    "    "
   ]
  },
  {
   "cell_type": "code",
   "execution_count": 29,
   "id": "aeaeccd0",
   "metadata": {},
   "outputs": [
    {
     "data": {
      "text/plain": [
       "['15', 'Russian', 'Sveza Group']"
      ]
     },
     "execution_count": 29,
     "metadata": {},
     "output_type": "execute_result"
    }
   ],
   "source": [
    "entities"
   ]
  },
  {
   "cell_type": "code",
   "execution_count": 30,
   "id": "9bbedbd5",
   "metadata": {},
   "outputs": [],
   "source": [
    "for ent, lab in zip(entities, labels):\n",
    "    entity_labels2 = {ent: lab}"
   ]
  },
  {
   "cell_type": "code",
   "execution_count": 32,
   "id": "c57889a4",
   "metadata": {},
   "outputs": [
    {
     "ename": "TypeError",
     "evalue": "unhashable type: 'list'",
     "output_type": "error",
     "traceback": [
      "\u001b[1;31m---------------------------------------------------------------------------\u001b[0m",
      "\u001b[1;31mTypeError\u001b[0m                                 Traceback (most recent call last)",
      "Cell \u001b[1;32mIn [32], line 1\u001b[0m\n\u001b[1;32m----> 1\u001b[0m entity_labels3 \u001b[38;5;241m=\u001b[39m {entities: labels}\n",
      "\u001b[1;31mTypeError\u001b[0m: unhashable type: 'list'"
     ]
    }
   ],
   "source": [
    "entity_labels3 = {entities: labels}"
   ]
  },
  {
   "cell_type": "code",
   "execution_count": 11,
   "id": "e0dd5dd8",
   "metadata": {},
   "outputs": [
    {
     "data": {
      "text/plain": [
       "['CARDINAL', 'NORP', 'ORG']"
      ]
     },
     "execution_count": 11,
     "metadata": {},
     "output_type": "execute_result"
    }
   ],
   "source": [
    "labels"
   ]
  },
  {
   "cell_type": "code",
   "execution_count": null,
   "id": "2846a76f",
   "metadata": {},
   "outputs": [],
   "source": [
    "for ent, lab in zip()"
   ]
  }
 ],
 "metadata": {
  "kernelspec": {
   "display_name": "Python 3 (ipykernel)",
   "language": "python",
   "name": "python3"
  },
  "language_info": {
   "codemirror_mode": {
    "name": "ipython",
    "version": 3
   },
   "file_extension": ".py",
   "mimetype": "text/x-python",
   "name": "python",
   "nbconvert_exporter": "python",
   "pygments_lexer": "ipython3",
   "version": "3.9.13"
  }
 },
 "nbformat": 4,
 "nbformat_minor": 5
}
